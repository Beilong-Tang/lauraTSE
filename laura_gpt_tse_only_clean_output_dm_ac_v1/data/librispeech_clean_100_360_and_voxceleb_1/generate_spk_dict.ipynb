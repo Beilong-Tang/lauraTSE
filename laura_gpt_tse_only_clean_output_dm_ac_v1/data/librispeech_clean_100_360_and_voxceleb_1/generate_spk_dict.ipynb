{
 "cells": [
  {
   "cell_type": "code",
   "execution_count": 3,
   "id": "d7c25317",
   "metadata": {},
   "outputs": [],
   "source": [
    "import pickle\n",
    "from collections import defaultdict"
   ]
  },
  {
   "cell_type": "code",
   "execution_count": 2,
   "id": "ddfa12db",
   "metadata": {},
   "outputs": [],
   "source": [
    "with open(\"clean_spk_dict.pkl\", \"rb\") as f:\n",
    "    spk_dict = pickle.load(f)"
   ]
  },
  {
   "cell_type": "code",
   "execution_count": 18,
   "id": "53b99eb8",
   "metadata": {},
   "outputs": [
    {
     "data": {
      "text/plain": [
       "2423"
      ]
     },
     "execution_count": 18,
     "metadata": {},
     "output_type": "execute_result"
    }
   ],
   "source": [
    "len(spk_dict)"
   ]
  },
  {
   "cell_type": "code",
   "execution_count": 22,
   "id": "51b9ed23",
   "metadata": {},
   "outputs": [],
   "source": [
    "spk_res = defaultdict(list)\n",
    "for k, v in spk_dict.items():\n",
    "    _spk_dict_list = spk_dict[k] # .replace(\"/SMIIPdata3/zbang/Corpus/librispeech/LibriSpeech\",\"/public/home/qinxy/zbang/data/LibriSpeech\")\n",
    "    for _e in _spk_dict_list:\n",
    "        _e = _e.replace(\"/SMIIPdata3/zbang/Corpus/librispeech/LibriSpeech\",\"/public/home/qinxy/zbang/data/LibriSpeech\")\n",
    "        _e = _e.replace(\"/NASdata/AudioData/voxceleb/voxceleb1/voxceleb1_wav\", \"/public/home/qinxy/qinxy/AudioData/VoxCeleb/VoxCeleb1\")\n",
    "        spk_res[k].append(_e)"
   ]
  },
  {
   "cell_type": "code",
   "execution_count": 27,
   "id": "80c1f85a",
   "metadata": {},
   "outputs": [
    {
     "data": {
      "text/plain": [
       "61"
      ]
     },
     "execution_count": 27,
     "metadata": {},
     "output_type": "execute_result"
    }
   ],
   "source": [
    "len(spk_dict['voxceleb_1id11251'])"
   ]
  },
  {
   "cell_type": "code",
   "execution_count": 23,
   "id": "70eaa88b",
   "metadata": {},
   "outputs": [
    {
     "name": "stdout",
     "output_type": "stream",
     "text": [
      "librispeech2514\n",
      "['/public/home/qinxy/zbang/data/LibriSpeech/train-clean-100/2514/149482/2514-149482-0046.flac', '/public/home/qinxy/zbang/data/LibriSpeech/train-clean-100/2514/149482/2514-149482-0071.flac', '/public/home/qinxy/zbang/data/LibriSpeech/train-clean-100/2514/149482/2514-149482-0062.flac', '/public/home/qinxy/zbang/data/LibriSpeech/train-clean-100/2514/149482/2514-149482-0041.flac', '/public/home/qinxy/zbang/data/LibriSpeech/train-clean-100/2514/149482/2514-149482-0065.flac', '/public/home/qinxy/zbang/data/LibriSpeech/train-clean-100/2514/149482/2514-149482-0106.flac', '/public/home/qinxy/zbang/data/LibriSpeech/train-clean-100/2514/149482/2514-149482-0080.flac', '/public/home/qinxy/zbang/data/LibriSpeech/train-clean-100/2514/149482/2514-149482-0078.flac', '/public/home/qinxy/zbang/data/LibriSpeech/train-clean-100/2514/149482/2514-149482-0030.flac', '/public/home/qinxy/zbang/data/LibriSpeech/train-clean-100/2514/149482/2514-149482-0039.flac', '/public/home/qinxy/zbang/data/LibriSpeech/train-clean-100/2514/149482/2514-149482-0089.flac', '/public/home/qinxy/zbang/data/LibriSpeech/train-clean-100/2514/149482/2514-149482-0052.flac', '/public/home/qinxy/zbang/data/LibriSpeech/train-clean-100/2514/149482/2514-149482-0094.flac', '/public/home/qinxy/zbang/data/LibriSpeech/train-clean-100/2514/149482/2514-149482-0101.flac', '/public/home/qinxy/zbang/data/LibriSpeech/train-clean-100/2514/149482/2514-149482-0014.flac', '/public/home/qinxy/zbang/data/LibriSpeech/train-clean-100/2514/149482/2514-149482-0013.flac', '/public/home/qinxy/zbang/data/LibriSpeech/train-clean-100/2514/149482/2514-149482-0076.flac', '/public/home/qinxy/zbang/data/LibriSpeech/train-clean-100/2514/149482/2514-149482-0007.flac', '/public/home/qinxy/zbang/data/LibriSpeech/train-clean-100/2514/149482/2514-149482-0037.flac', '/public/home/qinxy/zbang/data/LibriSpeech/train-clean-100/2514/149482/2514-149482-0048.flac', '/public/home/qinxy/zbang/data/LibriSpeech/train-clean-100/2514/149482/2514-149482-0023.flac', '/public/home/qinxy/zbang/data/LibriSpeech/train-clean-100/2514/149482/2514-149482-0087.flac', '/public/home/qinxy/zbang/data/LibriSpeech/train-clean-100/2514/149482/2514-149482-0024.flac', '/public/home/qinxy/zbang/data/LibriSpeech/train-clean-100/2514/149482/2514-149482-0093.flac', '/public/home/qinxy/zbang/data/LibriSpeech/train-clean-100/2514/149482/2514-149482-0009.flac', '/public/home/qinxy/zbang/data/LibriSpeech/train-clean-100/2514/149482/2514-149482-0032.flac', '/public/home/qinxy/zbang/data/LibriSpeech/train-clean-100/2514/149482/2514-149482-0000.flac', '/public/home/qinxy/zbang/data/LibriSpeech/train-clean-100/2514/149482/2514-149482-0021.flac', '/public/home/qinxy/zbang/data/LibriSpeech/train-clean-100/2514/149482/2514-149482-0082.flac', '/public/home/qinxy/zbang/data/LibriSpeech/train-clean-100/2514/149482/2514-149482-0050.flac', '/public/home/qinxy/zbang/data/LibriSpeech/train-clean-100/2514/149482/2514-149482-0028.flac', '/public/home/qinxy/zbang/data/LibriSpeech/train-clean-100/2514/149482/2514-149482-0091.flac', '/public/home/qinxy/zbang/data/LibriSpeech/train-clean-100/2514/149482/2514-149482-0074.flac', '/public/home/qinxy/zbang/data/LibriSpeech/train-clean-100/2514/149482/2514-149482-0005.flac', '/public/home/qinxy/zbang/data/LibriSpeech/train-clean-100/2514/149482/2514-149482-0067.flac', '/public/home/qinxy/zbang/data/LibriSpeech/train-clean-100/2514/149482/2514-149482-0085.flac', '/public/home/qinxy/zbang/data/LibriSpeech/train-clean-100/2514/149482/2514-149482-0060.flac', '/public/home/qinxy/zbang/data/LibriSpeech/train-clean-100/2514/149482/2514-149482-0018.flac', '/public/home/qinxy/zbang/data/LibriSpeech/train-clean-100/2514/149482/2514-149482-0073.flac', '/public/home/qinxy/zbang/data/LibriSpeech/train-clean-100/2514/149482/2514-149482-0011.flac', '/public/home/qinxy/zbang/data/LibriSpeech/train-clean-100/2514/149482/2514-149482-0055.flac', '/public/home/qinxy/zbang/data/LibriSpeech/train-clean-100/2514/149482/2514-149482-0043.flac', '/public/home/qinxy/zbang/data/LibriSpeech/train-clean-100/2514/149482/2514-149482-0044.flac', '/public/home/qinxy/zbang/data/LibriSpeech/train-clean-100/2514/149482/2514-149482-0026.flac', '/public/home/qinxy/zbang/data/LibriSpeech/train-clean-100/2514/149482/2514-149482-0098.flac', '/public/home/qinxy/zbang/data/LibriSpeech/train-clean-100/2514/149482/2514-149482-0103.flac', '/public/home/qinxy/zbang/data/LibriSpeech/train-clean-100/2514/149482/2514-149482-0016.flac', '/public/home/qinxy/zbang/data/LibriSpeech/train-clean-100/2514/149482/2514-149482-0035.flac', '/public/home/qinxy/zbang/data/LibriSpeech/train-clean-100/2514/149482/2514-149482-0002.flac', '/public/home/qinxy/zbang/data/LibriSpeech/train-clean-100/2514/149482/2514-149482-0059.flac', '/public/home/qinxy/zbang/data/LibriSpeech/train-clean-100/2514/149482/2514-149482-0096.flac', '/public/home/qinxy/zbang/data/LibriSpeech/train-clean-100/2514/149482/2514-149482-0069.flac', '/public/home/qinxy/zbang/data/LibriSpeech/train-clean-100/2514/149482/2514-149482-0104.flac', '/public/home/qinxy/zbang/data/LibriSpeech/train-clean-100/2514/149482/2514-149482-0057.flac', '/public/home/qinxy/zbang/data/LibriSpeech/train-clean-100/2514/149482/2514-149482-0105.flac', '/public/home/qinxy/zbang/data/LibriSpeech/train-clean-100/2514/149482/2514-149482-0027.flac', '/public/home/qinxy/zbang/data/LibriSpeech/train-clean-100/2514/149482/2514-149482-0099.flac', '/public/home/qinxy/zbang/data/LibriSpeech/train-clean-100/2514/149482/2514-149482-0019.flac', '/public/home/qinxy/zbang/data/LibriSpeech/train-clean-100/2514/149482/2514-149482-0072.flac', '/public/home/qinxy/zbang/data/LibriSpeech/train-clean-100/2514/149482/2514-149482-0015.flac', '/public/home/qinxy/zbang/data/LibriSpeech/train-clean-100/2514/149482/2514-149482-0064.flac', '/public/home/qinxy/zbang/data/LibriSpeech/train-clean-100/2514/149482/2514-149482-0034.flac', '/public/home/qinxy/zbang/data/LibriSpeech/train-clean-100/2514/149482/2514-149482-0040.flac', '/public/home/qinxy/zbang/data/LibriSpeech/train-clean-100/2514/149482/2514-149482-0058.flac', '/public/home/qinxy/zbang/data/LibriSpeech/train-clean-100/2514/149482/2514-149482-0031.flac', '/public/home/qinxy/zbang/data/LibriSpeech/train-clean-100/2514/149482/2514-149482-0045.flac', '/public/home/qinxy/zbang/data/LibriSpeech/train-clean-100/2514/149482/2514-149482-0066.flac', '/public/home/qinxy/zbang/data/LibriSpeech/train-clean-100/2514/149482/2514-149482-0008.flac', '/public/home/qinxy/zbang/data/LibriSpeech/train-clean-100/2514/149482/2514-149482-0051.flac', '/public/home/qinxy/zbang/data/LibriSpeech/train-clean-100/2514/149482/2514-149482-0097.flac', '/public/home/qinxy/zbang/data/LibriSpeech/train-clean-100/2514/149482/2514-149482-0084.flac', '/public/home/qinxy/zbang/data/LibriSpeech/train-clean-100/2514/149482/2514-149482-0075.flac', '/public/home/qinxy/zbang/data/LibriSpeech/train-clean-100/2514/149482/2514-149482-0003.flac', '/public/home/qinxy/zbang/data/LibriSpeech/train-clean-100/2514/149482/2514-149482-0081.flac', '/public/home/qinxy/zbang/data/LibriSpeech/train-clean-100/2514/149482/2514-149482-0029.flac', '/public/home/qinxy/zbang/data/LibriSpeech/train-clean-100/2514/149482/2514-149482-0102.flac', '/public/home/qinxy/zbang/data/LibriSpeech/train-clean-100/2514/149482/2514-149482-0061.flac', '/public/home/qinxy/zbang/data/LibriSpeech/train-clean-100/2514/149482/2514-149482-0020.flac', '/public/home/qinxy/zbang/data/LibriSpeech/train-clean-100/2514/149482/2514-149482-0004.flac', '/public/home/qinxy/zbang/data/LibriSpeech/train-clean-100/2514/149482/2514-149482-0017.flac', '/public/home/qinxy/zbang/data/LibriSpeech/train-clean-100/2514/149482/2514-149482-0010.flac', '/public/home/qinxy/zbang/data/LibriSpeech/train-clean-100/2514/149482/2514-149482-0090.flac', '/public/home/qinxy/zbang/data/LibriSpeech/train-clean-100/2514/149482/2514-149482-0083.flac', '/public/home/qinxy/zbang/data/LibriSpeech/train-clean-100/2514/149482/2514-149482-0056.flac', '/public/home/qinxy/zbang/data/LibriSpeech/train-clean-100/2514/149482/2514-149482-0042.flac', '/public/home/qinxy/zbang/data/LibriSpeech/train-clean-100/2514/149482/2514-149482-0033.flac', '/public/home/qinxy/zbang/data/LibriSpeech/train-clean-100/2514/149482/2514-149482-0068.flac', '/public/home/qinxy/zbang/data/LibriSpeech/train-clean-100/2514/149482/2514-149482-0107.flac', '/public/home/qinxy/zbang/data/LibriSpeech/train-clean-100/2514/149482/2514-149482-0036.flac', '/public/home/qinxy/zbang/data/LibriSpeech/train-clean-100/2514/149482/2514-149482-0049.flac', '/public/home/qinxy/zbang/data/LibriSpeech/train-clean-100/2514/149482/2514-149482-0006.flac', '/public/home/qinxy/zbang/data/LibriSpeech/train-clean-100/2514/149482/2514-149482-0070.flac', '/public/home/qinxy/zbang/data/LibriSpeech/train-clean-100/2514/149482/2514-149482-0063.flac', '/public/home/qinxy/zbang/data/LibriSpeech/train-clean-100/2514/149482/2514-149482-0022.flac', '/public/home/qinxy/zbang/data/LibriSpeech/train-clean-100/2514/149482/2514-149482-0086.flac', '/public/home/qinxy/zbang/data/LibriSpeech/train-clean-100/2514/149482/2514-149482-0054.flac', '/public/home/qinxy/zbang/data/LibriSpeech/train-clean-100/2514/149482/2514-149482-0053.flac', '/public/home/qinxy/zbang/data/LibriSpeech/train-clean-100/2514/149482/2514-149482-0092.flac', '/public/home/qinxy/zbang/data/LibriSpeech/train-clean-100/2514/149482/2514-149482-0047.flac', '/public/home/qinxy/zbang/data/LibriSpeech/train-clean-100/2514/149482/2514-149482-0077.flac', '/public/home/qinxy/zbang/data/LibriSpeech/train-clean-100/2514/149482/2514-149482-0012.flac', '/public/home/qinxy/zbang/data/LibriSpeech/train-clean-100/2514/149482/2514-149482-0025.flac', '/public/home/qinxy/zbang/data/LibriSpeech/train-clean-100/2514/149482/2514-149482-0088.flac', '/public/home/qinxy/zbang/data/LibriSpeech/train-clean-100/2514/149482/2514-149482-0095.flac', '/public/home/qinxy/zbang/data/LibriSpeech/train-clean-100/2514/149482/2514-149482-0001.flac', '/public/home/qinxy/zbang/data/LibriSpeech/train-clean-100/2514/149482/2514-149482-0079.flac', '/public/home/qinxy/zbang/data/LibriSpeech/train-clean-100/2514/149482/2514-149482-0100.flac', '/public/home/qinxy/zbang/data/LibriSpeech/train-clean-100/2514/149482/2514-149482-0038.flac']\n"
     ]
    }
   ],
   "source": [
    "for k, v in spk_res.items():\n",
    "    print(k)\n",
    "    print(v)\n",
    "    break"
   ]
  },
  {
   "cell_type": "code",
   "execution_count": null,
   "id": "f80849e0",
   "metadata": {},
   "outputs": [],
   "source": [
    "with open(\"clean_spk_dict_ac.pkl\", \"wb\") as f:\n",
    "    pickle.dump(spk_res, f)"
   ]
  }
 ],
 "metadata": {
  "kernelspec": {
   "display_name": "bltang_py310",
   "language": "python",
   "name": "python3"
  },
  "language_info": {
   "codemirror_mode": {
    "name": "ipython",
    "version": 3
   },
   "file_extension": ".py",
   "mimetype": "text/x-python",
   "name": "python",
   "nbconvert_exporter": "python",
   "pygments_lexer": "ipython3",
   "version": "3.10.16"
  }
 },
 "nbformat": 4,
 "nbformat_minor": 5
}

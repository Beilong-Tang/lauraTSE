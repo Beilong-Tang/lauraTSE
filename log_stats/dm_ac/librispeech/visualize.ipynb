{
 "cells": [
  {
   "cell_type": "code",
   "execution_count": 2,
   "metadata": {},
   "outputs": [],
   "source": [
    "import pickle\n",
    "import matplotlib.pyplot as plt"
   ]
  },
  {
   "cell_type": "code",
   "execution_count": 5,
   "metadata": {},
   "outputs": [],
   "source": [
    "with open(\"stats_epoch_53.pkl\", \"rb\") as f:\n",
    "    res = pickle.load(f)"
   ]
  },
  {
   "cell_type": "code",
   "execution_count": 9,
   "metadata": {},
   "outputs": [],
   "source": [
    "num_points = len(res['cv_log'])"
   ]
  },
  {
   "cell_type": "code",
   "execution_count": 13,
   "metadata": {},
   "outputs": [
    {
     "data": {
      "text/plain": [
       "{'loss': 7.76039457321167,\n",
       " 'nll_loss': 5.108784317970276,\n",
       " 'reg_loss': 2.65160995721817,\n",
       " 'reg_l1_loss': 1.8798736035823822,\n",
       " 'reg_l2_loss': 3.423346698284149,\n",
       " 'batch_size': 13.888888835906982,\n",
       " 'seq_length': 880.1620635986328,\n",
       " 'out_acc_1': 0.12224640883505344,\n",
       " 'out_acc_2': 0.07623323798179626}"
      ]
     },
     "execution_count": 13,
     "metadata": {},
     "output_type": "execute_result"
    }
   ],
   "source": [
    "## Sample log\n",
    "res['cv_log'][0]"
   ]
  },
  {
   "cell_type": "code",
   "execution_count": null,
   "metadata": {},
   "outputs": [],
   "source": [
    "x = list(range(len(res['cv_log'])))\n",
    "nll_loss = [ v['nll_loss'] for v in res['cv_log'].values()]\n",
    "reg = [ v['reg_loss'] for v in res['cv_log'].values()]\n",
    "acc_1 = [ v['out_acc_1'] for v in res['cv_log'].values()]\n",
    "acc_2 = [ v['out_acc_2'] for v in res['cv_log'].values()]\n",
    "\n",
    "plt.plot(x, nll_loss, linestyle='-', label='nll_loss')\n",
    "plt.plot(x, reg, linestyle='-', label='reg_loss')\n",
    "plt.plot(x, acc_1, linestyle='-', label='acc_1')\n",
    "plt.plot(x, acc_2, linestyle='-', label='acc_2')\n",
    "\n",
    "plt.title(\"Loss\")\n",
    "plt.grid(True)\n",
    "plt.xlabel(\"Steps\")\n",
    "plt.legend()\n",
    "plt.show()"
   ]
  }
 ],
 "metadata": {
  "kernelspec": {
   "display_name": "bltang_py310",
   "language": "python",
   "name": "python3"
  },
  "language_info": {
   "codemirror_mode": {
    "name": "ipython",
    "version": 3
   },
   "file_extension": ".py",
   "mimetype": "text/x-python",
   "name": "python",
   "nbconvert_exporter": "python",
   "pygments_lexer": "ipython3",
   "version": "3.10.16"
  }
 },
 "nbformat": 4,
 "nbformat_minor": 2
}
